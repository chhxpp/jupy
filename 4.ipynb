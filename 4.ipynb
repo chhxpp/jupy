{
 "cells": [
  {
   "cell_type": "code",
   "execution_count": 4,
   "id": "0586cd9a-385f-4ff5-8194-6bb998dd3762",
   "metadata": {},
   "outputs": [
    {
     "data": {
      "text/html": [
       "<div>\n",
       "<style scoped>\n",
       "    .dataframe tbody tr th:only-of-type {\n",
       "        vertical-align: middle;\n",
       "    }\n",
       "\n",
       "    .dataframe tbody tr th {\n",
       "        vertical-align: top;\n",
       "    }\n",
       "\n",
       "    .dataframe thead th {\n",
       "        text-align: right;\n",
       "    }\n",
       "</style>\n",
       "<table border=\"1\" class=\"dataframe\">\n",
       "  <thead>\n",
       "    <tr style=\"text-align: right;\">\n",
       "      <th></th>\n",
       "      <th>总价</th>\n",
       "      <th>画积</th>\n",
       "      <th>卧室</th>\n",
       "      <th>建成时间</th>\n",
       "    </tr>\n",
       "    <tr>\n",
       "      <th>id</th>\n",
       "      <th></th>\n",
       "      <th></th>\n",
       "      <th></th>\n",
       "      <th></th>\n",
       "    </tr>\n",
       "  </thead>\n",
       "  <tbody>\n",
       "    <tr>\n",
       "      <th>逸成东01</th>\n",
       "      <td>380</td>\n",
       "      <td>79</td>\n",
       "      <td>2</td>\n",
       "      <td>2003</td>\n",
       "    </tr>\n",
       "    <tr>\n",
       "      <th>天通苑04</th>\n",
       "      <td>507</td>\n",
       "      <td>140</td>\n",
       "      <td>3</td>\n",
       "      <td>2001</td>\n",
       "    </tr>\n",
       "    <tr>\n",
       "      <th>汽南小01</th>\n",
       "      <td>515</td>\n",
       "      <td>104</td>\n",
       "      <td>3</td>\n",
       "      <td>1985</td>\n",
       "    </tr>\n",
       "    <tr>\n",
       "      <th>门头沟01</th>\n",
       "      <td>305</td>\n",
       "      <td>87</td>\n",
       "      <td>2</td>\n",
       "      <td>1990</td>\n",
       "    </tr>\n",
       "    <tr>\n",
       "      <th>新街口01</th>\n",
       "      <td>260</td>\n",
       "      <td>55</td>\n",
       "      <td>2</td>\n",
       "      <td>2005</td>\n",
       "    </tr>\n",
       "    <tr>\n",
       "      <th>瑞祥里01</th>\n",
       "      <td>665</td>\n",
       "      <td>135</td>\n",
       "      <td>3</td>\n",
       "      <td>2004</td>\n",
       "    </tr>\n",
       "    <tr>\n",
       "      <th>瑞祥里02</th>\n",
       "      <td>316</td>\n",
       "      <td>78</td>\n",
       "      <td>2</td>\n",
       "      <td>1999</td>\n",
       "    </tr>\n",
       "  </tbody>\n",
       "</table>\n",
       "</div>"
      ],
      "text/plain": [
       "        总价   画积  卧室  建成时间\n",
       "id                       \n",
       "逸成东01  380   79   2  2003\n",
       "天通苑04  507  140   3  2001\n",
       "汽南小01  515  104   3  1985\n",
       "门头沟01  305   87   2  1990\n",
       "新街口01  260   55   2  2005\n",
       "瑞祥里01  665  135   3  2004\n",
       "瑞祥里02  316   78   2  1999"
      ]
     },
     "execution_count": 4,
     "metadata": {},
     "output_type": "execute_result"
    }
   ],
   "source": [
    "import pandas as pd\n",
    "       \n",
    "data=pd.read_excel(r'd:/mydoc/projs/jupyter/house.xlsx',sheet_name=0,header=0,usecols=[0,5,7,8,13],index_col=0)\n",
    "data"
   ]
  },
  {
   "cell_type": "code",
   "execution_count": 6,
   "id": "2eb07037-70e7-472f-bbd0-f277cc88fd8c",
   "metadata": {},
   "outputs": [
    {
     "data": {
      "text/plain": [
       "id\n",
       "逸成东01    380\n",
       "天通苑04    507\n",
       "汽南小01    515\n",
       "门头沟01    305\n",
       "新街口01    260\n",
       "瑞祥里01    665\n",
       "瑞祥里02    316\n",
       "Name: 总价, dtype: int64"
      ]
     },
     "execution_count": 6,
     "metadata": {},
     "output_type": "execute_result"
    }
   ],
   "source": [
    "price=data['总价']\n",
    "price"
   ]
  },
  {
   "cell_type": "code",
   "execution_count": 7,
   "id": "b5083388-f9a0-41d6-a97b-c9151323cc60",
   "metadata": {},
   "outputs": [
    {
     "name": "stderr",
     "output_type": "stream",
     "text": [
      "C:\\Users\\trust\\AppData\\Local\\Temp\\ipykernel_19932\\4074423798.py:1: FutureWarning: Series.__getitem__ treating keys as positions is deprecated. In a future version, integer keys will always be treated as labels (consistent with DataFrame behavior). To access a value by position, use `ser.iloc[pos]`\n",
      "  price[1]\n"
     ]
    },
    {
     "data": {
      "text/plain": [
       "np.int64(507)"
      ]
     },
     "execution_count": 7,
     "metadata": {},
     "output_type": "execute_result"
    }
   ],
   "source": [
    "price[1]"
   ]
  },
  {
   "cell_type": "code",
   "execution_count": 21,
   "id": "52e68736-163e-48b2-920f-01ebb3e7914b",
   "metadata": {},
   "outputs": [
    {
     "data": {
      "text/plain": [
       "id\n",
       "天通苑04    507\n",
       "新街口01    260\n",
       "Name: 总价, dtype: int64"
      ]
     },
     "execution_count": 21,
     "metadata": {},
     "output_type": "execute_result"
    }
   ],
   "source": [
    "price[['天通苑04','新街口01']]"
   ]
  },
  {
   "cell_type": "code",
   "execution_count": null,
   "id": "3c938df1-bf1a-4fba-981d-6df08c90b265",
   "metadata": {},
   "outputs": [],
   "source": [
    "price"
   ]
  }
 ],
 "metadata": {
  "kernelspec": {
   "display_name": "Python 3 (ipykernel)",
   "language": "python",
   "name": "python3"
  },
  "language_info": {
   "codemirror_mode": {
    "name": "ipython",
    "version": 3
   },
   "file_extension": ".py",
   "mimetype": "text/x-python",
   "name": "python",
   "nbconvert_exporter": "python",
   "pygments_lexer": "ipython3",
   "version": "3.13.5"
  }
 },
 "nbformat": 4,
 "nbformat_minor": 5
}
