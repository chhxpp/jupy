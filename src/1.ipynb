{
 "cells": [
  {
   "cell_type": "code",
   "execution_count": 2,
   "id": "0a639a65-9a78-4f9d-ae18-dc85fa8c0a18",
   "metadata": {
    "scrolled": true
   },
   "outputs": [
    {
     "data": {
      "text/plain": [
       "array([[104, 177, 189, 156, 121, 126],\n",
       "       [146, 131, 178, 193, 190, 125],\n",
       "       [152, 106, 109, 168, 174, 143],\n",
       "       [178, 130, 189, 164, 133, 156]])"
      ]
     },
     "execution_count": 2,
     "metadata": {},
     "output_type": "execute_result"
    }
   ],
   "source": [
    "import numpy as np\n",
    "sh=pd.array([[104,177,189,156,121,126],[146,131,178,193,190,125],[152,106,109,168,174,143],[178,130,189,164,133,156]])\n",
    "sh"
   ]
  },
  {
   "cell_type": "code",
   "execution_count": 36,
   "id": "3cdbeacb-7348-4999-9554-679594a090ee",
   "metadata": {},
   "outputs": [
    {
     "data": {
      "text/plain": [
       "array([189])"
      ]
     },
     "execution_count": 36,
     "metadata": {},
     "output_type": "execute_result"
    }
   ],
   "source": [
    "sh[[0],[2]]"
   ]
  },
  {
   "cell_type": "code",
   "execution_count": 30,
   "id": "3f52b7eb-9fd0-47ee-ace9-00423b48038a",
   "metadata": {},
   "outputs": [
    {
     "data": {
      "text/plain": [
       "array([[177, 189, 126],\n",
       "       [131, 178, 125],\n",
       "       [106, 109, 156],\n",
       "       [130, 189, 156]])"
      ]
     },
     "execution_count": 30,
     "metadata": {},
     "output_type": "execute_result"
    }
   ],
   "source": [
    "sh[:,(1,2,5)]"
   ]
  },
  {
   "cell_type": "code",
   "execution_count": 31,
   "id": "d79e8277-76e7-4d44-9711-b4fbc413d561",
   "metadata": {},
   "outputs": [
    {
     "data": {
      "text/plain": [
       "array([104, 131])"
      ]
     },
     "execution_count": 31,
     "metadata": {},
     "output_type": "execute_result"
    }
   ],
   "source": [
    "sh[(0,1),(0,1)]"
   ]
  },
  {
   "cell_type": "code",
   "execution_count": 44,
   "id": "df7ed848-2570-44b5-a2ca-e5df179dbe96",
   "metadata": {},
   "outputs": [
    {
     "data": {
      "text/plain": [
       "array([[177, 189, 126],\n",
       "       [106, 109, 156]])"
      ]
     },
     "execution_count": 44,
     "metadata": {},
     "output_type": "execute_result"
    }
   ],
   "source": [
    "sh[[[0],[2]],[1,2,5]]"
   ]
  },
  {
   "cell_type": "code",
   "execution_count": 47,
   "id": "2041b395-5e55-4bcc-a0d5-6f5ff5ecad2c",
   "metadata": {},
   "outputs": [
    {
     "data": {
      "text/plain": [
       "array([[177, 189, 126]])"
      ]
     },
     "execution_count": 47,
     "metadata": {},
     "output_type": "execute_result"
    }
   ],
   "source": [
    "sh[[[0]],[1,2,5]]"
   ]
  },
  {
   "cell_type": "code",
   "execution_count": 61,
   "id": "f423b910-1248-4524-9545-ec5fa66e80d3",
   "metadata": {},
   "outputs": [
    {
     "data": {
      "text/plain": [
       "array([580, 544, 665, 681, 618, 550])"
      ]
     },
     "execution_count": 61,
     "metadata": {},
     "output_type": "execute_result"
    }
   ],
   "source": [
    "月销量=np.sum(sh,axis=0)\n",
    "月销量"
   ]
  },
  {
   "cell_type": "code",
   "execution_count": 63,
   "id": "e249ce42-536a-4fc1-9e2b-13ac19fbc39f",
   "metadata": {},
   "outputs": [
    {
     "data": {
      "text/plain": [
       "array([0, 1, 5])"
      ]
     },
     "execution_count": 63,
     "metadata": {},
     "output_type": "execute_result"
    }
   ],
   "source": [
    "列号=np.where(月销量<600)\n",
    "列号[0]"
   ]
  },
  {
   "cell_type": "code",
   "execution_count": 64,
   "id": "ad9040fa-2e9c-4e5d-9a76-5086d6080462",
   "metadata": {},
   "outputs": [
    {
     "data": {
      "text/plain": [
       "array([[104, 177, 126],\n",
       "       [146, 131, 125],\n",
       "       [152, 106, 143],\n",
       "       [178, 130, 156]])"
      ]
     },
     "execution_count": 64,
     "metadata": {},
     "output_type": "execute_result"
    }
   ],
   "source": [
    "sh[:,列号[0]]"
   ]
  },
  {
   "cell_type": "code",
   "execution_count": 3,
   "id": "7fc9391e-3290-4c9e-971e-5054af4f63f7",
   "metadata": {},
   "outputs": [
    {
     "ename": "NameError",
     "evalue": "name '上海' is not defined",
     "output_type": "error",
     "traceback": [
      "\u001b[31m---------------------------------------------------------------------------\u001b[39m",
      "\u001b[31mNameError\u001b[39m                                 Traceback (most recent call last)",
      "\u001b[36mCell\u001b[39m\u001b[36m \u001b[39m\u001b[32mIn[3]\u001b[39m\u001b[32m, line 1\u001b[39m\n\u001b[32m----> \u001b[39m\u001b[32m1\u001b[39m \u001b[43m上海\u001b[49m+深圳\n",
      "\u001b[31mNameError\u001b[39m: name '上海' is not defined"
     ]
    }
   ],
   "source": [
    "上海+深圳"
   ]
  },
  {
   "cell_type": "code",
   "execution_count": null,
   "id": "4bbfc542-94ef-4436-a4ca-11332bfb6b28",
   "metadata": {},
   "outputs": [],
   "source": []
  }
 ],
 "metadata": {
  "kernelspec": {
   "display_name": "Python 3 (ipykernel)",
   "language": "python",
   "name": "python3"
  },
  "language_info": {
   "codemirror_mode": {
    "name": "ipython",
    "version": 3
   },
   "file_extension": ".py",
   "mimetype": "text/x-python",
   "name": "python",
   "nbconvert_exporter": "python",
   "pygments_lexer": "ipython3",
   "version": "3.13.6"
  }
 },
 "nbformat": 4,
 "nbformat_minor": 5
}
