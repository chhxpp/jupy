{
 "cells": [
  {
   "cell_type": "code",
   "execution_count": 1,
   "id": "659f23f6-8122-48cf-bb73-0a891b2b963d",
   "metadata": {},
   "outputs": [],
   "source": [
    "import pandas as pd"
   ]
  },
  {
   "cell_type": "code",
   "execution_count": 2,
   "id": "c3518002-6961-4b25-9341-97542a9fcbdd",
   "metadata": {},
   "outputs": [],
   "source": [
    "dic={'张三':25,'李四':31,'王五':23}"
   ]
  },
  {
   "cell_type": "code",
   "execution_count": 3,
   "id": "e0296a1a-3b43-4b51-8128-7e5b6565a2ef",
   "metadata": {},
   "outputs": [],
   "source": [
    "s=pd.Series(dic)"
   ]
  },
  {
   "cell_type": "code",
   "execution_count": 4,
   "id": "4238f630-4484-4bab-859c-643350021c79",
   "metadata": {},
   "outputs": [
    {
     "data": {
      "text/plain": [
       "张三    25\n",
       "李四    31\n",
       "王五    23\n",
       "dtype: int64"
      ]
     },
     "execution_count": 4,
     "metadata": {},
     "output_type": "execute_result"
    }
   ],
   "source": [
    "s"
   ]
  },
  {
   "cell_type": "code",
   "execution_count": 5,
   "id": "5dc82907-ba86-443a-b44c-cf31cf950f25",
   "metadata": {},
   "outputs": [
    {
     "data": {
      "text/plain": [
       "pandas.core.series.Series"
      ]
     },
     "execution_count": 5,
     "metadata": {},
     "output_type": "execute_result"
    }
   ],
   "source": [
    "type(s)"
   ]
  },
  {
   "cell_type": "code",
   "execution_count": 6,
   "id": "16e1cb80-1044-4adb-956d-758d134ab4a9",
   "metadata": {},
   "outputs": [
    {
     "data": {
      "text/plain": [
       "True"
      ]
     },
     "execution_count": 6,
     "metadata": {},
     "output_type": "execute_result"
    }
   ],
   "source": [
    "'李四' in s"
   ]
  },
  {
   "cell_type": "code",
   "execution_count": 7,
   "id": "5fcfd187-632e-45d8-98a2-263ab6f742e5",
   "metadata": {},
   "outputs": [
    {
     "data": {
      "text/plain": [
       "False"
      ]
     },
     "execution_count": 7,
     "metadata": {},
     "output_type": "execute_result"
    }
   ],
   "source": [
    "25 in s"
   ]
  },
  {
   "cell_type": "code",
   "execution_count": 8,
   "id": "00ae568a-2b4e-4e64-a00e-df4a78b4a0fd",
   "metadata": {},
   "outputs": [],
   "source": [
    "s['赵六']=88"
   ]
  },
  {
   "cell_type": "code",
   "execution_count": 9,
   "id": "1c78b54d-4502-465d-aed1-136efc73c6a6",
   "metadata": {},
   "outputs": [
    {
     "data": {
      "text/plain": [
       "张三    25\n",
       "李四    31\n",
       "王五    23\n",
       "赵六    88\n",
       "dtype: int64"
      ]
     },
     "execution_count": 9,
     "metadata": {},
     "output_type": "execute_result"
    }
   ],
   "source": [
    "s"
   ]
  },
  {
   "cell_type": "code",
   "execution_count": 18,
   "id": "09f890a3-e9f3-41be-a6a0-32b79f71e450",
   "metadata": {},
   "outputs": [
    {
     "data": {
      "text/plain": [
       "<bound method Series.keys of 张三    25\n",
       "李四    31\n",
       "王五    23\n",
       "赵六    88\n",
       "dtype: int64>"
      ]
     },
     "execution_count": 18,
     "metadata": {},
     "output_type": "execute_result"
    }
   ],
   "source": [
    "s.keys"
   ]
  },
  {
   "cell_type": "code",
   "execution_count": 19,
   "id": "da243225-8ab6-4ee7-bb85-064a7d3b5f73",
   "metadata": {},
   "outputs": [
    {
     "data": {
      "text/plain": [
       "array([25, 31, 23, 88])"
      ]
     },
     "execution_count": 19,
     "metadata": {},
     "output_type": "execute_result"
    }
   ],
   "source": [
    "s.values"
   ]
  },
  {
   "cell_type": "code",
   "execution_count": null,
   "id": "154a7cae-8f72-41d1-8e76-d43384b60f74",
   "metadata": {},
   "outputs": [],
   "source": []
  }
 ],
 "metadata": {
  "kernelspec": {
   "display_name": "Python 3 (ipykernel)",
   "language": "python",
   "name": "python3"
  },
  "language_info": {
   "codemirror_mode": {
    "name": "ipython",
    "version": 3
   },
   "file_extension": ".py",
   "mimetype": "text/x-python",
   "name": "python",
   "nbconvert_exporter": "python",
   "pygments_lexer": "ipython3",
   "version": "3.13.5"
  }
 },
 "nbformat": 4,
 "nbformat_minor": 5
}
